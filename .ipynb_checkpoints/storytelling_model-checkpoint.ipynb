{
 "cells": [
  {
   "cell_type": "markdown",
   "id": "87fe0bdd7c9442b7",
   "metadata": {},
   "source": []
  },
  {
   "cell_type": "code",
   "execution_count": null,
   "id": "28c86cf696119c7",
   "metadata": {
    "jupyter": {
     "is_executing": true
    }
   },
   "outputs": [],
   "source": [
    "## import all libraries\n",
    "\n",
    "import pandas as pd\n",
    "from transformers import GPT2Tokenizer, GPT2LMHeadModel, Trainer, TrainingArguments, DataCollatorForLanguageModeling\n",
    "from datasets import load_dataset\n",
    "import os\n"
   ]
  },
  {
   "cell_type": "code",
   "execution_count": 2,
   "id": "initial_id",
   "metadata": {
    "collapsed": true
   },
   "outputs": [],
   "source": [
    "def single_text(csv_path, text_column, output_file):\n",
    "    df = pd.read_csv(csv_path)\n",
    "    if text_column not in df.columns:\n",
    "        raise ValueError(f\"Column '{text_column}' not found in CSV. Available: {df.columns.tolist()}\")\n",
    "    df = df[df[text_column].notnull()]\n",
    "    separator = \"\\n\\n###\\n\\n\"  # Optional: helps model see doc boundaries\n",
    "    combined_text = separator.join(df[text_column].tolist())\n",
    "    with open(output_file, \"w\", encoding=\"utf-8\") as f:\n",
    "        f.write(combined_text)\n",
    "    print(f\"Combined corpus saved to '{output_file}' — Total stories: {len(df)}\")\n"
   ]
  },
  {
   "cell_type": "code",
   "execution_count": null,
   "id": "e307513308807380",
   "metadata": {},
   "outputs": [],
   "source": [
    "dream_file = pd.read_csv(\"dream_token.csv\")\n",
    "dream_file\n"
   ]
  },
  {
   "cell_type": "code",
   "execution_count": null,
   "id": "23ecbc9b83095e1d",
   "metadata": {},
   "outputs": [],
   "source": [
    "single_text(\"dream_token.csv\", \"report\", \"dream_corpus.txt\")"
   ]
  },
  {
   "cell_type": "code",
   "execution_count": 4,
   "id": "65d3628cf8725f00",
   "metadata": {},
   "outputs": [],
   "source": [
    "\n",
    "def train_gpt2_on_corpus(corpus_file,output_dir,model_name,num_train_epochs,block_size=128):\n",
    "\n",
    "    tokenizer = GPT2Tokenizer.from_pretrained(model_name)\n",
    "    tokenizer.pad_token = tokenizer.eos_token  \n",
    "    model = GPT2LMHeadModel.from_pretrained(model_name)\n",
    "    dataset = load_dataset(\"text\", data_files={\"train\": corpus_file})\n",
    "    def tokenize_function(examples):\n",
    "        return tokenizer(examples[\"text\"],truncation=True,max_length=block_size,padding=\"max_length\")\n",
    "\n",
    "    tokenized_dataset = dataset.map(tokenize_function,batched=True,remove_columns=[\"text\"])\n",
    "\n",
    "    # Data collator\n",
    "    data_collator = DataCollatorForLanguageModeling(\n",
    "        tokenizer=tokenizer, mlm=False\n",
    "    )\n",
    "\n",
    "    # Training configcheckpoints\n",
    "    training_args = TrainingArguments(\n",
    "        output_dir=output_dir,\n",
    "        overwrite_output_dir=False,  \n",
    "        num_train_epochs=num_train_epochs,\n",
    "        per_device_train_batch_size=2,\n",
    "        save_steps=500,       \n",
    "        save_total_limit=2,   \n",
    "        logging_steps=50,\n",
    "        prediction_loss_only=True,\n",
    "        fp16=True,)\n",
    "\n",
    "    trainer = Trainer(\n",
    "        model=model,\n",
    "        args=training_args,\n",
    "        train_dataset=tokenized_dataset[\"train\"],\n",
    "        data_collator=data_collator,\n",
    "        tokenizer=tokenizer,)\n",
    "\n",
    "    #Check for existing checkpoints\n",
    "    last_checkpoint = None\n",
    "    if os.path.isdir(output_dir):\n",
    "        checkpoints = [os.path.join(output_dir, d)\n",
    "            for d in os.listdir(output_dir)\n",
    "            if d.startswith(\"checkpoint-\")]\n",
    "        if checkpoints:\n",
    "            last_checkpoint = max(checkpoints, key=os.path.getmtime)\n",
    "\n",
    "    if last_checkpoint:\n",
    "        print(f\" Resuming from: {last_checkpoint}\")\n",
    "        trainer.train(resume_from_checkpoint=last_checkpoint)\n",
    "    else:\n",
    "        print(\"Starting fresh\")\n",
    "        trainer.train()\n",
    "\n",
    "    trainer.save_model(output_dir)\n",
    "    tokenizer.save_pretrained(output_dir)\n",
    "\n",
    "    print(f\"Final model {output_dir}\")\n"
   ]
  },
  {
   "cell_type": "code",
   "execution_count": null,
   "id": "d32213a414076c49",
   "metadata": {},
   "outputs": [
    {
     "data": {
      "application/vnd.jupyter.widget-view+json": {
       "model_id": "948daa0ba34848b880d6cc543cc9d943",
       "version_major": 2,
       "version_minor": 0
      },
      "text/plain": [
       "Map:   0%|          | 0/16957624 [00:00<?, ? examples/s]"
      ]
     },
     "metadata": {},
     "output_type": "display_data"
    }
   ],
   "source": [
    "# run model\n",
    "\n",
    "\n",
    "'''train_gpt2_on_corpus(\n",
    "    corpus_file=\"dream_corpus.txt\",\n",
    "    output_dir=\"./dream_gpt2\",\n",
    "    model_name=\"gpt2\",\n",
    "    num_train_epochs=3\n",
    ")'''\n",
    "\n",
    "train_gpt2_on_corpus(\n",
    "    corpus_file=\"email_corpus.txt\",\n",
    "    output_dir=\"./email_gpt2\",\n",
    "    model_name=\"gpt2\",\n",
    "    num_train_epochs=3\n",
    ")\n",
    "\n"
   ]
  }
 ],
 "metadata": {
  "kernelspec": {
   "display_name": "agnes_llm",
   "language": "python",
   "name": "python3"
  },
  "language_info": {
   "codemirror_mode": {
    "name": "ipython",
    "version": 3
   },
   "file_extension": ".py",
   "mimetype": "text/x-python",
   "name": "python",
   "nbconvert_exporter": "python",
   "pygments_lexer": "ipython3",
   "version": "3.10.16"
  }
 },
 "nbformat": 4,
 "nbformat_minor": 5
}
