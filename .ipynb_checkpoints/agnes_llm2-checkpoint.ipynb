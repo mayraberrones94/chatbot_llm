{
 "cells": [
  {
   "cell_type": "code",
   "execution_count": 24,
   "id": "70ad0e18",
   "metadata": {},
   "outputs": [],
   "source": [
    "import pandas as pd\n",
    "import numpy as np\n",
    "\n",
    "from transformers import pipeline, set_seed\n",
    "from datasets import load_dataset\n",
    "from trl import SFTConfig, SFTTrainer\n",
    "\n",
    "\n"
   ]
  },
  {
   "cell_type": "code",
   "execution_count": 25,
   "id": "bb414a53",
   "metadata": {},
   "outputs": [
    {
     "name": "stderr",
     "output_type": "stream",
     "text": [
      "Device set to use mps:0\n"
     ]
    }
   ],
   "source": [
    "generator = pipeline('text-generation', model='gpt2')\n",
    "set_seed(42)"
   ]
  },
  {
   "cell_type": "code",
   "execution_count": 26,
   "id": "63c4b091",
   "metadata": {},
   "outputs": [
    {
     "name": "stderr",
     "output_type": "stream",
     "text": [
      "Truncation was not explicitly activated but `max_length` is provided a specific value, please use `truncation=True` to explicitly truncate examples to max length. Defaulting to 'longest_first' truncation strategy. If you encode pairs of sequences (GLUE-style) with the tokenizer you can select this strategy more precisely by providing a specific strategy to `truncation`.\n",
      "Setting `pad_token_id` to `eos_token_id`:50256 for open-end generation.\n",
      "Both `max_new_tokens` (=256) and `max_length`(=30) seem to have been set. `max_new_tokens` will take precedence. Please refer to the documentation for more information. (https://huggingface.co/docs/transformers/main/en/main_classes/text_generation)\n"
     ]
    },
    {
     "data": {
      "text/plain": [
       "[{'generated_text': \"Hello, I'm a language model, and my project is based on the idea of a language model.\\n\\nI want to have a language that's both expressive and readable.\\n\\nLet's look at the following code:\\n\\nimport Data.ByteString\\n\\ndef get ( self ):\\n\\nself.data = Data.ByteString(data.get())\\n\\nself.data.append(data.get())\\n\\nself.data.append(data.get())\\n\\nself.data.append(data.get())\\n\\nself.data.append(data.get())\\n\\nself.data.append(data.get())\\n\\nself.data.append(data.get())\\n\\nself.data.append(data.get())\\n\\nself.data.append(data.get())\\n\\nself.data.append(data.get())\\n\\nself.data.append(data.get())\\n\\nself.data.append(data.get())\\n\\nself.data.append(data.get())\\n\\nself.data.append(data.get())\\n\\nself.data.append(data.get())\\n\\nself.data.append(data.get())\\n\\nself.data.append(data\"},\n",
       " {'generated_text': \"Hello, I'm a language model, not a language model, and if I don't understand it, I won't learn to write it. So I was writing a system for programming in JavaScript and a system for writing systems for programming in Python and a system for writing systems for programming in C++. And then I realized I was writing a language model, not a language model, because I was writing a language model for programming in JavaScript and a language model for writing systems for programming in Python and a language model for writing systems for programming in C++. And I realized that I needed something to write things that were a bit more complicated. And so I wrote a system for programming in JavaScript and a system for writing systems for programming in Python and a system for writing systems for programming in C++. And I realized that I needed something to write things that were a bit more complicated. And so I decided to give up on the language model. And so I decided to give up on the language model.\\n\\nAnd so I took a look at the documentation and realized something was wrong. I realized that the documentation was about building systems that were not a bit more complicated. And so I decided to give up on the language model. And so I took a look at the documentation and realized something was wrong. I\"},\n",
       " {'generated_text': \"Hello, I'm a language model, and I'm trying to learn some things. I'm trying to learn a lot of things without being able to understand what's going on.\\n\\nI think this is a common theme with people in the field and in the software industry. There are always people who want to talk about how the world is different, but at the same time they are still trying to learn things. The question is, can you create something that's really easy for people to understand and that's more fun, more accessible, in a way?\\n\\nJ: Yeah, but I think there's some things that we've been really good at. The thing that's really important is to make it accessible for everybody, and because we've been doing it for a while, so we've learned a lot. We've also learned a lot of other things. We've been really good at creating great things, and I think that's one of the things that is really important.\\n\\nM: What's your favorite project, and what's it been like to make it?\\n\\nJ: I'm very happy with it. It's a very difficult project. It's very hard. It's very hard to create something that is fun and accessible and interesting. I think we all like to\"},\n",
       " {'generated_text': \"Hello, I'm a language model, but I don't believe in a language model. I'm a language model. I don't like to think of myself as a model, but I do want to do better than I do right now. So I think that the future is not going to be built on a theory that I'm not familiar with. The future is being built on a theory that I'm not familiar with.\\n\\nI'm also a language model. I'm a language model. Even though I'm very vocal about the need for strong, cohesive, deep software, I think it's important to understand both the language model and the software model as well. I think the best way to think about it is by going back to a very early age where you can't see the human language. You can't see the computer language. You can't see the human brain. You can't see the computer brain. You can't see the human mind. You can't see the human mind.\\n\\nSo it's not like you can't see the human mind. It's like you can't see the human mind. It's like you can't see the human brain. It's like you can't see the human mind.\\n\\nSo it's not like you can't see the human\"},\n",
       " {'generated_text': 'Hello, I\\'m a language model, not an implementation.\\n\\nYou can imagine how it\\'s like to see a language model in action, using an interface.\\n\\nI\\'ll start with a simple example, which is a simple one.\\n\\nimport java.io.* ; class ExampleApp extends System.IO. Generic. System { static void main ( String [] args ) { System. out. println ( \"Hello, World!\" ); } }\\n\\nI\\'m not just talking about Java. I\\'m also talking about all the other languages I\\'ve learned in my life, which are so fascinating for me to see how they work.\\n\\nThat\\'s like saying I\\'ll learn all the languages in my life.\\n\\nLet\\'s have a look at some examples:\\n\\n< I\\'m using Java.io.Console, which is a Java.IO.Console class.>\\n\\nI\\'m using Java.IO.Console, which is a java.io.Console class. I\\'m using Java.IO.Console.class, which is a java.io.Console class. I\\'m using Java.IO.Console.class, which is a java.io.Console class. I\\'m using java.io.Console.class, which is a java.io.Console class.'}]"
      ]
     },
     "execution_count": 26,
     "metadata": {},
     "output_type": "execute_result"
    }
   ],
   "source": [
    "generator(\"Hello, I'm a language model,\", max_length=30, num_return_sequences=5)"
   ]
  },
  {
   "cell_type": "code",
   "execution_count": 4,
   "id": "24d36d0c",
   "metadata": {},
   "outputs": [
    {
     "data": {
      "text/html": [
       "<div>\n",
       "<style scoped>\n",
       "    .dataframe tbody tr th:only-of-type {\n",
       "        vertical-align: middle;\n",
       "    }\n",
       "\n",
       "    .dataframe tbody tr th {\n",
       "        vertical-align: top;\n",
       "    }\n",
       "\n",
       "    .dataframe thead th {\n",
       "        text-align: right;\n",
       "    }\n",
       "</style>\n",
       "<table border=\"1\" class=\"dataframe\">\n",
       "  <thead>\n",
       "    <tr style=\"text-align: right;\">\n",
       "      <th></th>\n",
       "      <th>id</th>\n",
       "      <th>name</th>\n",
       "      <th>number</th>\n",
       "      <th>time</th>\n",
       "      <th>date</th>\n",
       "      <th>gender</th>\n",
       "      <th>age</th>\n",
       "      <th>report</th>\n",
       "      <th>character</th>\n",
       "      <th>emotion</th>\n",
       "    </tr>\n",
       "  </thead>\n",
       "  <tbody>\n",
       "    <tr>\n",
       "      <th>0</th>\n",
       "      <td>alta</td>\n",
       "      <td>Alta: a detailed dreamer</td>\n",
       "      <td>1</td>\n",
       "      <td>1985-1997</td>\n",
       "      <td>1957</td>\n",
       "      <td>F</td>\n",
       "      <td>A</td>\n",
       "      <td>The one at the Meads's house, where it's bigge...</td>\n",
       "      <td>1MSA, 1FSA, 1FKA, 2ISA</td>\n",
       "      <td>NaN</td>\n",
       "    </tr>\n",
       "    <tr>\n",
       "      <th>1</th>\n",
       "      <td>alta</td>\n",
       "      <td>Alta: a detailed dreamer</td>\n",
       "      <td>2</td>\n",
       "      <td>1985-1997</td>\n",
       "      <td>8/11/67</td>\n",
       "      <td>F</td>\n",
       "      <td>A</td>\n",
       "      <td>I'm at a family reunion in a large fine house ...</td>\n",
       "      <td>2MSA, 2JSA</td>\n",
       "      <td>NaN</td>\n",
       "    </tr>\n",
       "    <tr>\n",
       "      <th>2</th>\n",
       "      <td>alta</td>\n",
       "      <td>Alta: a detailed dreamer</td>\n",
       "      <td>3</td>\n",
       "      <td>1985-1997</td>\n",
       "      <td>8/1/85</td>\n",
       "      <td>F</td>\n",
       "      <td>A</td>\n",
       "      <td>I watch a plane fly past and shortly realize i...</td>\n",
       "      <td>2ISA, 1FSA, 2ISA, 1MKA, 1MKA</td>\n",
       "      <td>NaN</td>\n",
       "    </tr>\n",
       "    <tr>\n",
       "      <th>3</th>\n",
       "      <td>alta</td>\n",
       "      <td>Alta: a detailed dreamer</td>\n",
       "      <td>4</td>\n",
       "      <td>1985-1997</td>\n",
       "      <td>1985?</td>\n",
       "      <td>F</td>\n",
       "      <td>A</td>\n",
       "      <td>Me pulling the green leaves and berries off so...</td>\n",
       "      <td>1MSC, 1FKA, 2JSA, 1ANI, 2MSA, 1ANI</td>\n",
       "      <td>NaN</td>\n",
       "    </tr>\n",
       "    <tr>\n",
       "      <th>4</th>\n",
       "      <td>alta</td>\n",
       "      <td>Alta: a detailed dreamer</td>\n",
       "      <td>5</td>\n",
       "      <td>1985-1997</td>\n",
       "      <td>1985?</td>\n",
       "      <td>F</td>\n",
       "      <td>A</td>\n",
       "      <td>I'm in a room that reminds me of (but definite...</td>\n",
       "      <td>1MKA, 2IOA, 1MKA, 2JSA, 1MSA</td>\n",
       "      <td>CO D, AN 1MKA</td>\n",
       "    </tr>\n",
       "  </tbody>\n",
       "</table>\n",
       "</div>"
      ],
      "text/plain": [
       "     id                      name number       time     date gender age  \\\n",
       "0  alta  Alta: a detailed dreamer      1  1985-1997     1957      F   A   \n",
       "1  alta  Alta: a detailed dreamer      2  1985-1997  8/11/67      F   A   \n",
       "2  alta  Alta: a detailed dreamer      3  1985-1997   8/1/85      F   A   \n",
       "3  alta  Alta: a detailed dreamer      4  1985-1997    1985?      F   A   \n",
       "4  alta  Alta: a detailed dreamer      5  1985-1997    1985?      F   A   \n",
       "\n",
       "                                              report  \\\n",
       "0  The one at the Meads's house, where it's bigge...   \n",
       "1  I'm at a family reunion in a large fine house ...   \n",
       "2  I watch a plane fly past and shortly realize i...   \n",
       "3  Me pulling the green leaves and berries off so...   \n",
       "4  I'm in a room that reminds me of (but definite...   \n",
       "\n",
       "                            character        emotion  \n",
       "0              1MSA, 1FSA, 1FKA, 2ISA            NaN  \n",
       "1                          2MSA, 2JSA            NaN  \n",
       "2        2ISA, 1FSA, 2ISA, 1MKA, 1MKA            NaN  \n",
       "3  1MSC, 1FKA, 2JSA, 1ANI, 2MSA, 1ANI            NaN  \n",
       "4        1MKA, 2IOA, 1MKA, 2JSA, 1MSA  CO D, AN 1MKA  "
      ]
     },
     "execution_count": 4,
     "metadata": {},
     "output_type": "execute_result"
    }
   ],
   "source": [
    "dreambank = pd.read_csv('dreambank.csv')\n",
    "dreambank.head(5)"
   ]
  },
  {
   "cell_type": "code",
   "execution_count": 13,
   "id": "628a392a",
   "metadata": {},
   "outputs": [
    {
     "data": {
      "text/plain": [
       "array(['Alta: a detailed dreamer', 'Angie: age 18 & 20',\n",
       "       'Arlie: a middle-aged woman', 'Barb Sanders', 'Barb Sanders #2',\n",
       "       'Bay Area girls: Grades 4-6', 'Bay Area girls: Grades 7-9',\n",
       "       'Bea 1: a high school student', 'Bea 2: a college student',\n",
       "       'Blind dreamers (F)', 'Blind dreamers (M)',\n",
       "       'Robert Bosnak: A dream analyst', 'Chris: a transvestite',\n",
       "       'Chuck: a physical scientist', 'College students, 1997-1998 (F)',\n",
       "       'College students, 1997-1998 (M)',\n",
       "       'Dahlia: concerns with appearance', 'David: teenage dreams',\n",
       "       'Dorothea: 53 years of dreams', 'Ed: dreams of his late wife',\n",
       "       'Edna: a blind woman', 'Elizabeth: a woman in her 40s',\n",
       "       'Emma: 48 years of dreams', \"Emma's Husband\",\n",
       "       'Esther: an adolescent girl', 'College women, late 1940s',\n",
       "       'Izzy (ALL, including non-consecutive)',\n",
       "       'Jasmine (ALL, including non-consecutive)',\n",
       "       'Jeff: a lucid dreamer', 'Joan: a lesbian', 'Kenneth',\n",
       "       'Lawrence, a young man', 'Madeline 1: High School',\n",
       "       'Madeline 2: College Dorms', 'Madeline 3: Off-Campus',\n",
       "       'Madeline 4: After College', 'Mack: A poor recaller',\n",
       "       'Mark: a young boy', 'Melissa: a young girl', 'Merri: an artist',\n",
       "       'Miami Home-Lab: Home', 'Miami Home-Lab: Lab',\n",
       "       \"Melora (Melvin's wife)\", \"Melvin (Melora's husband)\",\n",
       "       'Nancy: Caring & headstrong', 'The Natural Scientist',\n",
       "       'Norman: a child molester', 'Hall/VdC Norms: Female',\n",
       "       'Hall/VdC Norms: Male', 'Pegasus: a factory worker',\n",
       "       'Peruvian men', 'Peruvian women', 'Phil 1: teens',\n",
       "       'Phil 2: late 20s', 'Phil 3: retirement', 'The Physiologist',\n",
       "       'Pregnancy & Abortion', 'Ringo: from the 1960s',\n",
       "       'Sally: a forester', 'Samantha: in her 20s', 'Seventh grade girls',\n",
       "       'Midwest teenagers (F)', 'Midwest teenagers (M)',\n",
       "       'West Coast teenage girls', 'Toby: A friendly party animal',\n",
       "       'Tom: An outgoing man', 'UCSC women, 1996', 'Van: a video gamer',\n",
       "       'Vickie: a 10-year-old girl', 'Vietnam Vet: 1970-2008 war dreams',\n",
       "       'Vietnam Vet: 2015 dreams', 'Vietnam Vet: 2016-17 dreams'],\n",
       "      dtype=object)"
      ]
     },
     "execution_count": 13,
     "metadata": {},
     "output_type": "execute_result"
    }
   ],
   "source": [
    "name_dream = dreambank['name'].unique()\n",
    "name_dream"
   ]
  },
  {
   "cell_type": "code",
   "execution_count": 16,
   "id": "c6c336e0",
   "metadata": {},
   "outputs": [
    {
     "data": {
      "text/plain": [
       "27952"
      ]
     },
     "execution_count": 16,
     "metadata": {},
     "output_type": "execute_result"
    }
   ],
   "source": [
    "len(dreambank)"
   ]
  },
  {
   "cell_type": "code",
   "execution_count": null,
   "id": "921260c3",
   "metadata": {},
   "outputs": [],
   "source": []
  },
  {
   "cell_type": "code",
   "execution_count": 20,
   "id": "48b7cb8f",
   "metadata": {},
   "outputs": [
    {
     "data": {
      "text/html": [
       "<div>\n",
       "<style scoped>\n",
       "    .dataframe tbody tr th:only-of-type {\n",
       "        vertical-align: middle;\n",
       "    }\n",
       "\n",
       "    .dataframe tbody tr th {\n",
       "        vertical-align: top;\n",
       "    }\n",
       "\n",
       "    .dataframe thead th {\n",
       "        text-align: right;\n",
       "    }\n",
       "</style>\n",
       "<table border=\"1\" class=\"dataframe\">\n",
       "  <thead>\n",
       "    <tr style=\"text-align: right;\">\n",
       "      <th></th>\n",
       "      <th>name</th>\n",
       "      <th>report</th>\n",
       "    </tr>\n",
       "  </thead>\n",
       "  <tbody>\n",
       "    <tr>\n",
       "      <th>27942</th>\n",
       "      <td>Vietnam Vet: 2016-17 dreams</td>\n",
       "      <td>With a community of men and several women, I'm...</td>\n",
       "    </tr>\n",
       "    <tr>\n",
       "      <th>27943</th>\n",
       "      <td>Vietnam Vet: 2016-17 dreams</td>\n",
       "      <td>A man bearing a likeness to Donald Trump calls...</td>\n",
       "    </tr>\n",
       "    <tr>\n",
       "      <th>27944</th>\n",
       "      <td>Vietnam Vet: 2016-17 dreams</td>\n",
       "      <td>The sparse jungle offers little camouflage. Hi...</td>\n",
       "    </tr>\n",
       "    <tr>\n",
       "      <th>27945</th>\n",
       "      <td>Vietnam Vet: 2016-17 dreams</td>\n",
       "      <td>On a desolate farm, in a dirt lot, a very dark...</td>\n",
       "    </tr>\n",
       "    <tr>\n",
       "      <th>27946</th>\n",
       "      <td>Vietnam Vet: 2016-17 dreams</td>\n",
       "      <td>At night, in a foreign land, I go from one res...</td>\n",
       "    </tr>\n",
       "    <tr>\n",
       "      <th>27947</th>\n",
       "      <td>Vietnam Vet: 2016-17 dreams</td>\n",
       "      <td>In a town like the town I lived in from 2001 t...</td>\n",
       "    </tr>\n",
       "    <tr>\n",
       "      <th>27948</th>\n",
       "      <td>Vietnam Vet: 2016-17 dreams</td>\n",
       "      <td>At night, as people leave, I'm standing in a f...</td>\n",
       "    </tr>\n",
       "    <tr>\n",
       "      <th>27949</th>\n",
       "      <td>Vietnam Vet: 2016-17 dreams</td>\n",
       "      <td>I'm in an airplane flying high over the earth,...</td>\n",
       "    </tr>\n",
       "    <tr>\n",
       "      <th>27950</th>\n",
       "      <td>Vietnam Vet: 2016-17 dreams</td>\n",
       "      <td>As an adult, I'm living at home with brother a...</td>\n",
       "    </tr>\n",
       "    <tr>\n",
       "      <th>27951</th>\n",
       "      <td>Vietnam Vet: 2016-17 dreams</td>\n",
       "      <td>I'm part of a bombing mission over India. As w...</td>\n",
       "    </tr>\n",
       "  </tbody>\n",
       "</table>\n",
       "</div>"
      ],
      "text/plain": [
       "                              name  \\\n",
       "27942  Vietnam Vet: 2016-17 dreams   \n",
       "27943  Vietnam Vet: 2016-17 dreams   \n",
       "27944  Vietnam Vet: 2016-17 dreams   \n",
       "27945  Vietnam Vet: 2016-17 dreams   \n",
       "27946  Vietnam Vet: 2016-17 dreams   \n",
       "27947  Vietnam Vet: 2016-17 dreams   \n",
       "27948  Vietnam Vet: 2016-17 dreams   \n",
       "27949  Vietnam Vet: 2016-17 dreams   \n",
       "27950  Vietnam Vet: 2016-17 dreams   \n",
       "27951  Vietnam Vet: 2016-17 dreams   \n",
       "\n",
       "                                                  report  \n",
       "27942  With a community of men and several women, I'm...  \n",
       "27943  A man bearing a likeness to Donald Trump calls...  \n",
       "27944  The sparse jungle offers little camouflage. Hi...  \n",
       "27945  On a desolate farm, in a dirt lot, a very dark...  \n",
       "27946  At night, in a foreign land, I go from one res...  \n",
       "27947  In a town like the town I lived in from 2001 t...  \n",
       "27948  At night, as people leave, I'm standing in a f...  \n",
       "27949  I'm in an airplane flying high over the earth,...  \n",
       "27950  As an adult, I'm living at home with brother a...  \n",
       "27951  I'm part of a bombing mission over India. As w...  "
      ]
     },
     "execution_count": 20,
     "metadata": {},
     "output_type": "execute_result"
    }
   ],
   "source": [
    "dream_token = dreambank[['name', 'report']]\n",
    "dream_token.tail(10)"
   ]
  },
  {
   "cell_type": "code",
   "execution_count": 30,
   "id": "8bb6849b",
   "metadata": {},
   "outputs": [],
   "source": [
    "dream_token.to_csv('dream_token.csv', index=False, header=True)"
   ]
  },
  {
   "cell_type": "code",
   "execution_count": 12,
   "id": "a5370952",
   "metadata": {},
   "outputs": [
    {
     "name": "stdout",
     "output_type": "stream",
     "text": [
      "The one at the Meads's house, where it's bigger inside than out; there's a European village just inside, with a cobblestone street and a Pied-Piper sort of man with curly hair, he can do things like juggle - I go up the back stairs [there aren't any in the real house] and then down the other side [since there's a second set, immediately] then down a short empty hallway that turns a corner, where I find a tiny room...a young woman with shoulder-length blonde hair in a pageboy is there, cooking at a stove that almost fills the room...she's nice to me. Now outside, I'm waiting for my aunt to pick me up - she arrives in a little round convertible and we go for a drive, not very far - we cross a little bridge over a creek, then double back and she drops me off at the house again. Inside (?) I sit with a couple of people, playing with a string of blue balloons.\n"
     ]
    }
   ],
   "source": [
    "print(dreambank['report'][0])"
   ]
  },
  {
   "cell_type": "code",
   "execution_count": null,
   "id": "5e67a835",
   "metadata": {},
   "outputs": [
    {
     "data": {
      "text/plain": [
       "\"Message-ID: <18782981.1075855378110.JavaMail.evans@thyme>\\nDate: Mon, 14 May 2001 16:39:00 -0700 (PDT)\\nFrom: phillip.allen@enron.com\\nTo: tim.belden@enron.com\\nSubject: \\nMime-Version: 1.0\\nContent-Type: text/plain; charset=us-ascii\\nContent-Transfer-Encoding: 7bit\\nX-From: Phillip K Allen\\nX-To: Tim Belden <Tim Belden/Enron@EnronXGate>\\nX-cc: \\nX-bcc: \\nX-Folder: \\\\Phillip_Allen_Jan2002_1\\\\Allen, Phillip K.\\\\'Sent Mail\\nX-Origin: Allen-P\\nX-FileName: pallen (Non-Privileged).pst\\n\\nHere is our forecast\\n\\n \""
      ]
     },
     "execution_count": 6,
     "metadata": {},
     "output_type": "execute_result"
    }
   ],
   "source": [
    "emails = pd.read_csv('emails.csv')\n"
   ]
  },
  {
   "cell_type": "code",
   "execution_count": 15,
   "id": "6aa289ef",
   "metadata": {},
   "outputs": [
    {
     "name": "stdout",
     "output_type": "stream",
     "text": [
      "517401\n"
     ]
    }
   ],
   "source": [
    "print(len(emails))"
   ]
  },
  {
   "cell_type": "code",
   "execution_count": 28,
   "id": "9af2c583",
   "metadata": {},
   "outputs": [],
   "source": [
    "from transformers import GPT2Tokenizer, GPT2LMHeadModel, Trainer, TrainingArguments, DataCollatorForLanguageModeling\n",
    "from datasets import Dataset\n",
    "import pandas as pd"
   ]
  },
  {
   "cell_type": "code",
   "execution_count": null,
   "id": "a37319af",
   "metadata": {},
   "outputs": [],
   "source": [
    "# Functions to normalize the data\n",
    "\n",
    "def load_csv_dataset(csv_path):\n",
    "    df = pd.read_csv(csv_path)\n",
    "    if 'prompt' not in df.columns or 'result' not in df.columns:\n",
    "        raise ValueError(\"CSV must contain 'prompt' and 'result' columns.\")\n",
    "\n",
    "    conversations = df.apply(lambda row: f\"User: {row['prompt']}\\nBot: {row['result']}\", axis=1)\n",
    "    return Dataset.from_dict({\"text\": conversations.tolist()})\n",
    "\n",
    "\n",
    "def tokenize_function(example, tokenizer):\n",
    "    return tokenizer(example[\"text\"], truncation=True, padding=\"max_length\", max_length=512)"
   ]
  },
  {
   "cell_type": "code",
   "execution_count": null,
   "id": "2cde4932",
   "metadata": {},
   "outputs": [],
   "source": [
    "# Train the model (check this:)\n",
    "\n",
    "#https://huggingface.co/docs/trl/sft_trainer\n",
    "#https://huggingface.co/docs/datasets/loading\n",
    "#https://medium.com/@prashanth.ramanathan/fine-tuning-a-pre-trained-gpt-2-model-and-performing-inference-a-hands-on-guide-57c097a3b810\n",
    "\n",
    "def train_model(csv_path, output_dir, model_name=\"openai-community/gpt2\", epochs=3):\n",
    "    tokenizer = GPT2Tokenizer.from_pretrained(model_name)\n",
    "    tokenizer.pad_token = tokenizer.eos_token\n",
    "\n",
    "    model = GPT2LMHeadModel.from_pretrained(model_name)\n",
    "\n",
    "    dataset = load_csv_dataset(csv_path)\n",
    "    tokenized_dataset = dataset.map(lambda x: tokenize_function(x, tokenizer), batched=True)\n",
    "\n",
    "    training_args = TrainingArguments(\n",
    "        output_dir=output_dir,\n",
    "        per_device_train_batch_size=2,\n",
    "        num_train_epochs=epochs,\n",
    "        save_total_limit=1,\n",
    "        logging_steps=10,\n",
    "        save_steps=500,\n",
    "        fp16=True,\n",
    "        report_to=\"none\"\n",
    "    )\n",
    "\n",
    "    data_collator = DataCollatorForLanguageModeling(tokenizer=tokenizer, mlm=False)\n",
    "\n",
    "    trainer = Trainer(\n",
    "        model=model,\n",
    "        args=training_args,\n",
    "        train_dataset=tokenized_dataset,\n",
    "        tokenizer=tokenizer,\n",
    "        data_collator=data_collator\n",
    "    )\n",
    "\n",
    "    trainer.train()\n",
    "    trainer.save_model(output_dir)\n",
    "    tokenizer.save_pretrained(output_dir)\n",
    "\n",
    "# Cell 6: Run the training\n",
    "csv_path = \"data1/train.csv\"         # Path to your CSV\n",
    "output_dir = \"trained_model_v1\"      # Directory to save the model\n",
    "train_model(csv_path, output_dir)\n"
   ]
  }
 ],
 "metadata": {
  "kernelspec": {
   "display_name": "agnes_llm",
   "language": "python",
   "name": "python3"
  },
  "language_info": {
   "codemirror_mode": {
    "name": "ipython",
    "version": 3
   },
   "file_extension": ".py",
   "mimetype": "text/x-python",
   "name": "python",
   "nbconvert_exporter": "python",
   "pygments_lexer": "ipython3",
   "version": "3.10.16"
  }
 },
 "nbformat": 4,
 "nbformat_minor": 5
}
